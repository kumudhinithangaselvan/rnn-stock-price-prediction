{
  "nbformat": 4,
  "nbformat_minor": 0,
  "metadata": {
    "colab": {
      "provenance": []
    },
    "kernelspec": {
      "name": "python3",
      "display_name": "Python 3"
    },
    "language_info": {
      "name": "python"
    }
  },
  "cells": [
    {
      "cell_type": "code",
      "execution_count": 2,
      "metadata": {
        "id": "LqQkg1EbaNAa"
      },
      "outputs": [],
      "source": [
        "import numpy as np\n",
        "import matplotlib.pyplot as plt\n",
        "import pandas as pd\n",
        "from sklearn.preprocessing import MinMaxScaler\n",
        "from keras import layers\n",
        "from keras.models import Sequential\n",
        "from keras import models"
      ]
    },
    {
      "cell_type": "code",
      "source": [
        "dataset_train = pd.read_csv('trainset.csv')"
      ],
      "metadata": {
        "id": "18ABcT7KacGZ"
      },
      "execution_count": 3,
      "outputs": []
    },
    {
      "cell_type": "code",
      "source": [
        "dataset_train.columns"
      ],
      "metadata": {
        "colab": {
          "base_uri": "https://localhost:8080/"
        },
        "id": "U0F4-qINdzDj",
        "outputId": "82cff769-0ca8-4c55-acdd-46f52c9a36d8"
      },
      "execution_count": 4,
      "outputs": [
        {
          "output_type": "execute_result",
          "data": {
            "text/plain": [
              "Index(['Date', 'Open', 'High', 'Low', 'Close', 'Adj Close', 'Volume'], dtype='object')"
            ]
          },
          "metadata": {},
          "execution_count": 4
        }
      ]
    },
    {
      "cell_type": "code",
      "source": [
        "dataset_train.head()"
      ],
      "metadata": {
        "colab": {
          "base_uri": "https://localhost:8080/",
          "height": 206
        },
        "id": "CSDn-e92d8V-",
        "outputId": "20338659-329b-4323-dbd9-6aeb80ea982e"
      },
      "execution_count": 5,
      "outputs": [
        {
          "output_type": "execute_result",
          "data": {
            "text/plain": [
              "         Date        Open        High         Low       Close   Adj Close  \\\n",
              "0  2013-01-02  357.385559  361.151062  355.959839  359.288177  359.288177   \n",
              "1  2013-01-03  360.122742  363.600128  358.031342  359.496826  359.496826   \n",
              "2  2013-01-04  362.313507  368.339294  361.488861  366.600616  366.600616   \n",
              "3  2013-01-07  365.348755  367.301056  362.929504  365.001007  365.001007   \n",
              "4  2013-01-08  365.393463  365.771027  359.874359  364.280701  364.280701   \n",
              "\n",
              "    Volume  \n",
              "0  5115500  \n",
              "1  4666500  \n",
              "2  5562800  \n",
              "3  3332900  \n",
              "4  3373900  "
            ],
            "text/html": [
              "\n",
              "  <div id=\"df-6f59c383-0952-4eca-9700-60b5e8f049d8\" class=\"colab-df-container\">\n",
              "    <div>\n",
              "<style scoped>\n",
              "    .dataframe tbody tr th:only-of-type {\n",
              "        vertical-align: middle;\n",
              "    }\n",
              "\n",
              "    .dataframe tbody tr th {\n",
              "        vertical-align: top;\n",
              "    }\n",
              "\n",
              "    .dataframe thead th {\n",
              "        text-align: right;\n",
              "    }\n",
              "</style>\n",
              "<table border=\"1\" class=\"dataframe\">\n",
              "  <thead>\n",
              "    <tr style=\"text-align: right;\">\n",
              "      <th></th>\n",
              "      <th>Date</th>\n",
              "      <th>Open</th>\n",
              "      <th>High</th>\n",
              "      <th>Low</th>\n",
              "      <th>Close</th>\n",
              "      <th>Adj Close</th>\n",
              "      <th>Volume</th>\n",
              "    </tr>\n",
              "  </thead>\n",
              "  <tbody>\n",
              "    <tr>\n",
              "      <th>0</th>\n",
              "      <td>2013-01-02</td>\n",
              "      <td>357.385559</td>\n",
              "      <td>361.151062</td>\n",
              "      <td>355.959839</td>\n",
              "      <td>359.288177</td>\n",
              "      <td>359.288177</td>\n",
              "      <td>5115500</td>\n",
              "    </tr>\n",
              "    <tr>\n",
              "      <th>1</th>\n",
              "      <td>2013-01-03</td>\n",
              "      <td>360.122742</td>\n",
              "      <td>363.600128</td>\n",
              "      <td>358.031342</td>\n",
              "      <td>359.496826</td>\n",
              "      <td>359.496826</td>\n",
              "      <td>4666500</td>\n",
              "    </tr>\n",
              "    <tr>\n",
              "      <th>2</th>\n",
              "      <td>2013-01-04</td>\n",
              "      <td>362.313507</td>\n",
              "      <td>368.339294</td>\n",
              "      <td>361.488861</td>\n",
              "      <td>366.600616</td>\n",
              "      <td>366.600616</td>\n",
              "      <td>5562800</td>\n",
              "    </tr>\n",
              "    <tr>\n",
              "      <th>3</th>\n",
              "      <td>2013-01-07</td>\n",
              "      <td>365.348755</td>\n",
              "      <td>367.301056</td>\n",
              "      <td>362.929504</td>\n",
              "      <td>365.001007</td>\n",
              "      <td>365.001007</td>\n",
              "      <td>3332900</td>\n",
              "    </tr>\n",
              "    <tr>\n",
              "      <th>4</th>\n",
              "      <td>2013-01-08</td>\n",
              "      <td>365.393463</td>\n",
              "      <td>365.771027</td>\n",
              "      <td>359.874359</td>\n",
              "      <td>364.280701</td>\n",
              "      <td>364.280701</td>\n",
              "      <td>3373900</td>\n",
              "    </tr>\n",
              "  </tbody>\n",
              "</table>\n",
              "</div>\n",
              "    <div class=\"colab-df-buttons\">\n",
              "\n",
              "  <div class=\"colab-df-container\">\n",
              "    <button class=\"colab-df-convert\" onclick=\"convertToInteractive('df-6f59c383-0952-4eca-9700-60b5e8f049d8')\"\n",
              "            title=\"Convert this dataframe to an interactive table.\"\n",
              "            style=\"display:none;\">\n",
              "\n",
              "  <svg xmlns=\"http://www.w3.org/2000/svg\" height=\"24px\" viewBox=\"0 -960 960 960\">\n",
              "    <path d=\"M120-120v-720h720v720H120Zm60-500h600v-160H180v160Zm220 220h160v-160H400v160Zm0 220h160v-160H400v160ZM180-400h160v-160H180v160Zm440 0h160v-160H620v160ZM180-180h160v-160H180v160Zm440 0h160v-160H620v160Z\"/>\n",
              "  </svg>\n",
              "    </button>\n",
              "\n",
              "  <style>\n",
              "    .colab-df-container {\n",
              "      display:flex;\n",
              "      gap: 12px;\n",
              "    }\n",
              "\n",
              "    .colab-df-convert {\n",
              "      background-color: #E8F0FE;\n",
              "      border: none;\n",
              "      border-radius: 50%;\n",
              "      cursor: pointer;\n",
              "      display: none;\n",
              "      fill: #1967D2;\n",
              "      height: 32px;\n",
              "      padding: 0 0 0 0;\n",
              "      width: 32px;\n",
              "    }\n",
              "\n",
              "    .colab-df-convert:hover {\n",
              "      background-color: #E2EBFA;\n",
              "      box-shadow: 0px 1px 2px rgba(60, 64, 67, 0.3), 0px 1px 3px 1px rgba(60, 64, 67, 0.15);\n",
              "      fill: #174EA6;\n",
              "    }\n",
              "\n",
              "    .colab-df-buttons div {\n",
              "      margin-bottom: 4px;\n",
              "    }\n",
              "\n",
              "    [theme=dark] .colab-df-convert {\n",
              "      background-color: #3B4455;\n",
              "      fill: #D2E3FC;\n",
              "    }\n",
              "\n",
              "    [theme=dark] .colab-df-convert:hover {\n",
              "      background-color: #434B5C;\n",
              "      box-shadow: 0px 1px 3px 1px rgba(0, 0, 0, 0.15);\n",
              "      filter: drop-shadow(0px 1px 2px rgba(0, 0, 0, 0.3));\n",
              "      fill: #FFFFFF;\n",
              "    }\n",
              "  </style>\n",
              "\n",
              "    <script>\n",
              "      const buttonEl =\n",
              "        document.querySelector('#df-6f59c383-0952-4eca-9700-60b5e8f049d8 button.colab-df-convert');\n",
              "      buttonEl.style.display =\n",
              "        google.colab.kernel.accessAllowed ? 'block' : 'none';\n",
              "\n",
              "      async function convertToInteractive(key) {\n",
              "        const element = document.querySelector('#df-6f59c383-0952-4eca-9700-60b5e8f049d8');\n",
              "        const dataTable =\n",
              "          await google.colab.kernel.invokeFunction('convertToInteractive',\n",
              "                                                    [key], {});\n",
              "        if (!dataTable) return;\n",
              "\n",
              "        const docLinkHtml = 'Like what you see? Visit the ' +\n",
              "          '<a target=\"_blank\" href=https://colab.research.google.com/notebooks/data_table.ipynb>data table notebook</a>'\n",
              "          + ' to learn more about interactive tables.';\n",
              "        element.innerHTML = '';\n",
              "        dataTable['output_type'] = 'display_data';\n",
              "        await google.colab.output.renderOutput(dataTable, element);\n",
              "        const docLink = document.createElement('div');\n",
              "        docLink.innerHTML = docLinkHtml;\n",
              "        element.appendChild(docLink);\n",
              "      }\n",
              "    </script>\n",
              "  </div>\n",
              "\n",
              "\n",
              "<div id=\"df-f29c8b32-e8b7-472e-8aee-64226df18360\">\n",
              "  <button class=\"colab-df-quickchart\" onclick=\"quickchart('df-f29c8b32-e8b7-472e-8aee-64226df18360')\"\n",
              "            title=\"Suggest charts\"\n",
              "            style=\"display:none;\">\n",
              "\n",
              "<svg xmlns=\"http://www.w3.org/2000/svg\" height=\"24px\"viewBox=\"0 0 24 24\"\n",
              "     width=\"24px\">\n",
              "    <g>\n",
              "        <path d=\"M19 3H5c-1.1 0-2 .9-2 2v14c0 1.1.9 2 2 2h14c1.1 0 2-.9 2-2V5c0-1.1-.9-2-2-2zM9 17H7v-7h2v7zm4 0h-2V7h2v10zm4 0h-2v-4h2v4z\"/>\n",
              "    </g>\n",
              "</svg>\n",
              "  </button>\n",
              "\n",
              "<style>\n",
              "  .colab-df-quickchart {\n",
              "      --bg-color: #E8F0FE;\n",
              "      --fill-color: #1967D2;\n",
              "      --hover-bg-color: #E2EBFA;\n",
              "      --hover-fill-color: #174EA6;\n",
              "      --disabled-fill-color: #AAA;\n",
              "      --disabled-bg-color: #DDD;\n",
              "  }\n",
              "\n",
              "  [theme=dark] .colab-df-quickchart {\n",
              "      --bg-color: #3B4455;\n",
              "      --fill-color: #D2E3FC;\n",
              "      --hover-bg-color: #434B5C;\n",
              "      --hover-fill-color: #FFFFFF;\n",
              "      --disabled-bg-color: #3B4455;\n",
              "      --disabled-fill-color: #666;\n",
              "  }\n",
              "\n",
              "  .colab-df-quickchart {\n",
              "    background-color: var(--bg-color);\n",
              "    border: none;\n",
              "    border-radius: 50%;\n",
              "    cursor: pointer;\n",
              "    display: none;\n",
              "    fill: var(--fill-color);\n",
              "    height: 32px;\n",
              "    padding: 0;\n",
              "    width: 32px;\n",
              "  }\n",
              "\n",
              "  .colab-df-quickchart:hover {\n",
              "    background-color: var(--hover-bg-color);\n",
              "    box-shadow: 0 1px 2px rgba(60, 64, 67, 0.3), 0 1px 3px 1px rgba(60, 64, 67, 0.15);\n",
              "    fill: var(--button-hover-fill-color);\n",
              "  }\n",
              "\n",
              "  .colab-df-quickchart-complete:disabled,\n",
              "  .colab-df-quickchart-complete:disabled:hover {\n",
              "    background-color: var(--disabled-bg-color);\n",
              "    fill: var(--disabled-fill-color);\n",
              "    box-shadow: none;\n",
              "  }\n",
              "\n",
              "  .colab-df-spinner {\n",
              "    border: 2px solid var(--fill-color);\n",
              "    border-color: transparent;\n",
              "    border-bottom-color: var(--fill-color);\n",
              "    animation:\n",
              "      spin 1s steps(1) infinite;\n",
              "  }\n",
              "\n",
              "  @keyframes spin {\n",
              "    0% {\n",
              "      border-color: transparent;\n",
              "      border-bottom-color: var(--fill-color);\n",
              "      border-left-color: var(--fill-color);\n",
              "    }\n",
              "    20% {\n",
              "      border-color: transparent;\n",
              "      border-left-color: var(--fill-color);\n",
              "      border-top-color: var(--fill-color);\n",
              "    }\n",
              "    30% {\n",
              "      border-color: transparent;\n",
              "      border-left-color: var(--fill-color);\n",
              "      border-top-color: var(--fill-color);\n",
              "      border-right-color: var(--fill-color);\n",
              "    }\n",
              "    40% {\n",
              "      border-color: transparent;\n",
              "      border-right-color: var(--fill-color);\n",
              "      border-top-color: var(--fill-color);\n",
              "    }\n",
              "    60% {\n",
              "      border-color: transparent;\n",
              "      border-right-color: var(--fill-color);\n",
              "    }\n",
              "    80% {\n",
              "      border-color: transparent;\n",
              "      border-right-color: var(--fill-color);\n",
              "      border-bottom-color: var(--fill-color);\n",
              "    }\n",
              "    90% {\n",
              "      border-color: transparent;\n",
              "      border-bottom-color: var(--fill-color);\n",
              "    }\n",
              "  }\n",
              "</style>\n",
              "\n",
              "  <script>\n",
              "    async function quickchart(key) {\n",
              "      const quickchartButtonEl =\n",
              "        document.querySelector('#' + key + ' button');\n",
              "      quickchartButtonEl.disabled = true;  // To prevent multiple clicks.\n",
              "      quickchartButtonEl.classList.add('colab-df-spinner');\n",
              "      try {\n",
              "        const charts = await google.colab.kernel.invokeFunction(\n",
              "            'suggestCharts', [key], {});\n",
              "      } catch (error) {\n",
              "        console.error('Error during call to suggestCharts:', error);\n",
              "      }\n",
              "      quickchartButtonEl.classList.remove('colab-df-spinner');\n",
              "      quickchartButtonEl.classList.add('colab-df-quickchart-complete');\n",
              "    }\n",
              "    (() => {\n",
              "      let quickchartButtonEl =\n",
              "        document.querySelector('#df-f29c8b32-e8b7-472e-8aee-64226df18360 button');\n",
              "      quickchartButtonEl.style.display =\n",
              "        google.colab.kernel.accessAllowed ? 'block' : 'none';\n",
              "    })();\n",
              "  </script>\n",
              "</div>\n",
              "\n",
              "    </div>\n",
              "  </div>\n"
            ],
            "application/vnd.google.colaboratory.intrinsic+json": {
              "type": "dataframe",
              "variable_name": "dataset_train",
              "summary": "{\n  \"name\": \"dataset_train\",\n  \"rows\": 1259,\n  \"fields\": [\n    {\n      \"column\": \"Date\",\n      \"properties\": {\n        \"dtype\": \"object\",\n        \"num_unique_values\": 1259,\n        \"samples\": [\n          \"2013-04-23\",\n          \"2017-01-30\",\n          \"2013-03-06\"\n        ],\n        \"semantic_type\": \"\",\n        \"description\": \"\"\n      }\n    },\n    {\n      \"column\": \"Open\",\n      \"properties\": {\n        \"dtype\": \"number\",\n        \"std\": 175.63057351209417,\n        \"min\": 350.053253,\n        \"max\": 1075.199951,\n        \"num_unique_values\": 1228,\n        \"samples\": [\n          727.580017,\n          524.118103,\n          553.40564\n        ],\n        \"semantic_type\": \"\",\n        \"description\": \"\"\n      }\n    },\n    {\n      \"column\": \"High\",\n      \"properties\": {\n        \"dtype\": \"number\",\n        \"std\": 176.62741611717948,\n        \"min\": 350.391052,\n        \"max\": 1078.48999,\n        \"num_unique_values\": 1239,\n        \"samples\": [\n          580.309143,\n          577.489014,\n          517.056946\n        ],\n        \"semantic_type\": \"\",\n        \"description\": \"\"\n      }\n    },\n    {\n      \"column\": \"Low\",\n      \"properties\": {\n        \"dtype\": \"number\",\n        \"std\": 174.73281352959697,\n        \"min\": 345.512787,\n        \"max\": 1063.550049,\n        \"num_unique_values\": 1240,\n        \"samples\": [\n          576.052551,\n          568.403076,\n          518.469177\n        ],\n        \"semantic_type\": \"\",\n        \"description\": \"\"\n      }\n    },\n    {\n      \"column\": \"Close\",\n      \"properties\": {\n        \"dtype\": \"number\",\n        \"std\": 175.82099273815913,\n        \"min\": 349.164032,\n        \"max\": 1077.140015,\n        \"num_unique_values\": 1245,\n        \"samples\": [\n          749.460022,\n          557.812866,\n          927.330017\n        ],\n        \"semantic_type\": \"\",\n        \"description\": \"\"\n      }\n    },\n    {\n      \"column\": \"Adj Close\",\n      \"properties\": {\n        \"dtype\": \"number\",\n        \"std\": 175.82099273815913,\n        \"min\": 349.164032,\n        \"max\": 1077.140015,\n        \"num_unique_values\": 1245,\n        \"samples\": [\n          749.460022,\n          557.812866,\n          927.330017\n        ],\n        \"semantic_type\": \"\",\n        \"description\": \"\"\n      }\n    },\n    {\n      \"column\": \"Volume\",\n      \"properties\": {\n        \"dtype\": \"number\",\n        \"std\": 1672159,\n        \"min\": 7900,\n        \"max\": 23283100,\n        \"num_unique_values\": 1228,\n        \"samples\": [\n          1837200,\n          2000000,\n          1477800\n        ],\n        \"semantic_type\": \"\",\n        \"description\": \"\"\n      }\n    }\n  ]\n}"
            }
          },
          "metadata": {},
          "execution_count": 5
        }
      ]
    },
    {
      "cell_type": "code",
      "source": [
        "train_set= dataset_train.iloc[:,1:2].values"
      ],
      "metadata": {
        "id": "1T0A0qlGa2N1"
      },
      "execution_count": 6,
      "outputs": []
    },
    {
      "cell_type": "code",
      "source": [
        "type(train_set)"
      ],
      "metadata": {
        "colab": {
          "base_uri": "https://localhost:8080/"
        },
        "id": "zL_pG9mba9T_",
        "outputId": "e1a4b611-93f7-447f-e316-bdbedc301baa"
      },
      "execution_count": 7,
      "outputs": [
        {
          "output_type": "execute_result",
          "data": {
            "text/plain": [
              "numpy.ndarray"
            ]
          },
          "metadata": {},
          "execution_count": 7
        }
      ]
    },
    {
      "cell_type": "code",
      "source": [
        "train_set.shape"
      ],
      "metadata": {
        "colab": {
          "base_uri": "https://localhost:8080/"
        },
        "id": "vMaIxffXbAMV",
        "outputId": "2c9d42b0-7520-48b2-b3e2-8bb6ad41a555"
      },
      "execution_count": 8,
      "outputs": [
        {
          "output_type": "execute_result",
          "data": {
            "text/plain": [
              "(1259, 1)"
            ]
          },
          "metadata": {},
          "execution_count": 8
        }
      ]
    },
    {
      "cell_type": "code",
      "source": [
        "sc = MinMaxScaler(feature_range=(0,1))\n",
        "training_set_scaled = sc.fit_transform(train_set)"
      ],
      "metadata": {
        "id": "fMGMfaKFbEfY"
      },
      "execution_count": 9,
      "outputs": []
    },
    {
      "cell_type": "code",
      "source": [
        "training_set_scaled.shape"
      ],
      "metadata": {
        "colab": {
          "base_uri": "https://localhost:8080/"
        },
        "id": "puM154d0bH4C",
        "outputId": "829b0411-a44a-48bb-b3d3-0059819dd184"
      },
      "execution_count": 10,
      "outputs": [
        {
          "output_type": "execute_result",
          "data": {
            "text/plain": [
              "(1259, 1)"
            ]
          },
          "metadata": {},
          "execution_count": 10
        }
      ]
    },
    {
      "cell_type": "code",
      "source": [
        "X_train_array = []\n",
        "y_train_array = []\n",
        "for i in range(60, 1259):\n",
        "  X_train_array.append(training_set_scaled[i-60:i,0])\n",
        "  y_train_array.append(training_set_scaled[i,0])\n",
        "X_train, y_train = np.array(X_train_array), np.array(y_train_array)\n",
        "X_train1 = X_train.reshape((X_train.shape[0], X_train.shape[1],1))"
      ],
      "metadata": {
        "id": "su_D2RKtbTYK"
      },
      "execution_count": 11,
      "outputs": []
    },
    {
      "cell_type": "code",
      "source": [
        "X_train.shape"
      ],
      "metadata": {
        "colab": {
          "base_uri": "https://localhost:8080/"
        },
        "id": "9JlGs8IqcHyd",
        "outputId": "08c3caec-8283-40fe-c2a7-96be0e19b119"
      },
      "execution_count": 12,
      "outputs": [
        {
          "output_type": "execute_result",
          "data": {
            "text/plain": [
              "(1199, 60)"
            ]
          },
          "metadata": {},
          "execution_count": 12
        }
      ]
    },
    {
      "cell_type": "code",
      "source": [
        "length = 60\n",
        "n_features = 1"
      ],
      "metadata": {
        "id": "D6fPnsd7cL2q"
      },
      "execution_count": 13,
      "outputs": []
    },
    {
      "cell_type": "code",
      "source": [
        "model = Sequential()"
      ],
      "metadata": {
        "id": "FNhvIl_BfsRd"
      },
      "execution_count": 14,
      "outputs": []
    },
    {
      "cell_type": "code",
      "source": [
        "X_train.shape\n",
        "length = 60\n",
        "n_features = 1\n",
        "model = models.Sequential()\n",
        "model.add(layers.SimpleRNN(50,input_shape=(length,n_features)))\n",
        "model.add(layers.Dense(1))\n",
        "\n",
        "model.compile(optimizer='adam',loss='mse')"
      ],
      "metadata": {
        "id": "YVwZ_yu7cXBS"
      },
      "execution_count": 15,
      "outputs": []
    },
    {
      "cell_type": "code",
      "source": [
        "print(\"Name: KUMUDHINI T       Register Number:212222040084 \")\n",
        "model.summary()"
      ],
      "metadata": {
        "colab": {
          "base_uri": "https://localhost:8080/"
        },
        "id": "Xx0d1rAYgK4s",
        "outputId": "2c0b857f-3cae-4099-b863-ba7591021288"
      },
      "execution_count": 16,
      "outputs": [
        {
          "output_type": "stream",
          "name": "stdout",
          "text": [
            "Name: KUMUDHINI T       Register Number:212222040084 \n",
            "Model: \"sequential_1\"\n",
            "_________________________________________________________________\n",
            " Layer (type)                Output Shape              Param #   \n",
            "=================================================================\n",
            " simple_rnn (SimpleRNN)      (None, 50)                2600      \n",
            "                                                                 \n",
            " dense (Dense)               (None, 1)                 51        \n",
            "                                                                 \n",
            "=================================================================\n",
            "Total params: 2651 (10.36 KB)\n",
            "Trainable params: 2651 (10.36 KB)\n",
            "Non-trainable params: 0 (0.00 Byte)\n",
            "_________________________________________________________________\n"
          ]
        }
      ]
    },
    {
      "cell_type": "code",
      "source": [
        "model.fit(X_train1,y_train,epochs=100, batch_size=32)"
      ],
      "metadata": {
        "colab": {
          "base_uri": "https://localhost:8080/"
        },
        "id": "5MWk_Fa6gbHi",
        "outputId": "c21d82e9-658e-4f83-a0b1-33e6bb58b145"
      },
      "execution_count": 26,
      "outputs": [
        {
          "output_type": "stream",
          "name": "stdout",
          "text": [
            "Epoch 1/100\n",
            "38/38 [==============================] - 1s 11ms/step - loss: 0.0928\n",
            "Epoch 2/100\n",
            "38/38 [==============================] - 0s 10ms/step - loss: 5.5792e-04\n",
            "Epoch 3/100\n",
            "38/38 [==============================] - 0s 11ms/step - loss: 4.1251e-04\n",
            "Epoch 4/100\n",
            "38/38 [==============================] - 0s 10ms/step - loss: 4.0331e-04\n",
            "Epoch 5/100\n",
            "38/38 [==============================] - 0s 10ms/step - loss: 3.6333e-04\n",
            "Epoch 6/100\n",
            "38/38 [==============================] - 0s 10ms/step - loss: 3.5776e-04\n",
            "Epoch 7/100\n",
            "38/38 [==============================] - 0s 10ms/step - loss: 3.2892e-04\n",
            "Epoch 8/100\n",
            "38/38 [==============================] - 0s 10ms/step - loss: 3.2143e-04\n",
            "Epoch 9/100\n",
            "38/38 [==============================] - 0s 10ms/step - loss: 3.1427e-04\n",
            "Epoch 10/100\n",
            "38/38 [==============================] - 0s 10ms/step - loss: 3.0723e-04\n",
            "Epoch 11/100\n",
            "38/38 [==============================] - 0s 10ms/step - loss: 2.9627e-04\n",
            "Epoch 12/100\n",
            "38/38 [==============================] - 0s 10ms/step - loss: 2.9060e-04\n",
            "Epoch 13/100\n",
            "38/38 [==============================] - 0s 10ms/step - loss: 2.7540e-04\n",
            "Epoch 14/100\n",
            "38/38 [==============================] - 0s 10ms/step - loss: 2.6841e-04\n",
            "Epoch 15/100\n",
            "38/38 [==============================] - 0s 10ms/step - loss: 2.6588e-04\n",
            "Epoch 16/100\n",
            "38/38 [==============================] - 0s 12ms/step - loss: 2.6167e-04\n",
            "Epoch 17/100\n",
            "38/38 [==============================] - 1s 17ms/step - loss: 2.6996e-04\n",
            "Epoch 18/100\n",
            "38/38 [==============================] - 1s 17ms/step - loss: 2.5718e-04\n",
            "Epoch 19/100\n",
            "38/38 [==============================] - 1s 17ms/step - loss: 2.5158e-04\n",
            "Epoch 20/100\n",
            "38/38 [==============================] - 1s 17ms/step - loss: 2.5344e-04\n",
            "Epoch 21/100\n",
            "38/38 [==============================] - 0s 11ms/step - loss: 2.6579e-04\n",
            "Epoch 22/100\n",
            "38/38 [==============================] - 0s 10ms/step - loss: 2.6591e-04\n",
            "Epoch 23/100\n",
            "38/38 [==============================] - 0s 10ms/step - loss: 2.5336e-04\n",
            "Epoch 24/100\n",
            "38/38 [==============================] - 0s 11ms/step - loss: 2.5315e-04\n",
            "Epoch 25/100\n",
            "38/38 [==============================] - 0s 10ms/step - loss: 2.4838e-04\n",
            "Epoch 26/100\n",
            "38/38 [==============================] - 0s 10ms/step - loss: 2.4063e-04\n",
            "Epoch 27/100\n",
            "38/38 [==============================] - 0s 11ms/step - loss: 2.3579e-04\n",
            "Epoch 28/100\n",
            "38/38 [==============================] - 0s 10ms/step - loss: 2.3599e-04\n",
            "Epoch 29/100\n",
            "38/38 [==============================] - 0s 10ms/step - loss: 2.3662e-04\n",
            "Epoch 30/100\n",
            "38/38 [==============================] - 0s 10ms/step - loss: 2.3931e-04\n",
            "Epoch 31/100\n",
            "38/38 [==============================] - 0s 10ms/step - loss: 2.4068e-04\n",
            "Epoch 32/100\n",
            "38/38 [==============================] - 0s 10ms/step - loss: 2.3606e-04\n",
            "Epoch 33/100\n",
            "38/38 [==============================] - 0s 10ms/step - loss: 2.2717e-04\n",
            "Epoch 34/100\n",
            "38/38 [==============================] - 0s 10ms/step - loss: 2.2916e-04\n",
            "Epoch 35/100\n",
            "38/38 [==============================] - 0s 11ms/step - loss: 2.2294e-04\n",
            "Epoch 36/100\n",
            "38/38 [==============================] - 0s 10ms/step - loss: 2.4857e-04\n",
            "Epoch 37/100\n",
            "38/38 [==============================] - 0s 10ms/step - loss: 2.4875e-04\n",
            "Epoch 38/100\n",
            "38/38 [==============================] - 0s 10ms/step - loss: 2.4951e-04\n",
            "Epoch 39/100\n",
            "38/38 [==============================] - 0s 10ms/step - loss: 2.2901e-04\n",
            "Epoch 40/100\n",
            "38/38 [==============================] - 0s 11ms/step - loss: 2.3864e-04\n",
            "Epoch 41/100\n",
            "38/38 [==============================] - 0s 11ms/step - loss: 2.4918e-04\n",
            "Epoch 42/100\n",
            "38/38 [==============================] - 0s 10ms/step - loss: 2.6788e-04\n",
            "Epoch 43/100\n",
            "38/38 [==============================] - 0s 11ms/step - loss: 2.3614e-04\n",
            "Epoch 44/100\n",
            "38/38 [==============================] - 0s 10ms/step - loss: 2.2712e-04\n",
            "Epoch 45/100\n",
            "38/38 [==============================] - 0s 11ms/step - loss: 2.2551e-04\n",
            "Epoch 46/100\n",
            "38/38 [==============================] - 1s 17ms/step - loss: 2.2229e-04\n",
            "Epoch 47/100\n",
            "38/38 [==============================] - 1s 17ms/step - loss: 2.2714e-04\n",
            "Epoch 48/100\n",
            "38/38 [==============================] - 1s 17ms/step - loss: 2.2042e-04\n",
            "Epoch 49/100\n",
            "38/38 [==============================] - 1s 18ms/step - loss: 2.2259e-04\n",
            "Epoch 50/100\n",
            "38/38 [==============================] - 0s 11ms/step - loss: 2.1401e-04\n",
            "Epoch 51/100\n",
            "38/38 [==============================] - 0s 11ms/step - loss: 2.3535e-04\n",
            "Epoch 52/100\n",
            "38/38 [==============================] - 0s 10ms/step - loss: 2.4692e-04\n",
            "Epoch 53/100\n",
            "38/38 [==============================] - 0s 10ms/step - loss: 2.0743e-04\n",
            "Epoch 54/100\n",
            "38/38 [==============================] - 0s 10ms/step - loss: 2.2587e-04\n",
            "Epoch 55/100\n",
            "38/38 [==============================] - 0s 10ms/step - loss: 2.0997e-04\n",
            "Epoch 56/100\n",
            "38/38 [==============================] - 1s 17ms/step - loss: 2.1862e-04\n",
            "Epoch 57/100\n",
            "38/38 [==============================] - 1s 24ms/step - loss: 2.0476e-04\n",
            "Epoch 58/100\n",
            "38/38 [==============================] - 1s 22ms/step - loss: 2.3057e-04\n",
            "Epoch 59/100\n",
            "38/38 [==============================] - 0s 11ms/step - loss: 2.2194e-04\n",
            "Epoch 60/100\n",
            "38/38 [==============================] - 0s 10ms/step - loss: 2.3389e-04\n",
            "Epoch 61/100\n",
            "38/38 [==============================] - 0s 10ms/step - loss: 2.1714e-04\n",
            "Epoch 62/100\n",
            "38/38 [==============================] - 0s 10ms/step - loss: 2.1474e-04\n",
            "Epoch 63/100\n",
            "38/38 [==============================] - 0s 11ms/step - loss: 2.2503e-04\n",
            "Epoch 64/100\n",
            "38/38 [==============================] - 0s 10ms/step - loss: 2.1497e-04\n",
            "Epoch 65/100\n",
            "38/38 [==============================] - 0s 10ms/step - loss: 2.1962e-04\n",
            "Epoch 66/100\n",
            "38/38 [==============================] - 0s 10ms/step - loss: 2.7179e-04\n",
            "Epoch 67/100\n",
            "38/38 [==============================] - 0s 10ms/step - loss: 2.1599e-04\n",
            "Epoch 68/100\n",
            "38/38 [==============================] - 0s 10ms/step - loss: 1.9902e-04\n",
            "Epoch 69/100\n",
            "38/38 [==============================] - 0s 10ms/step - loss: 2.2150e-04\n",
            "Epoch 70/100\n",
            "38/38 [==============================] - 0s 10ms/step - loss: 2.3635e-04\n",
            "Epoch 71/100\n",
            "38/38 [==============================] - 0s 10ms/step - loss: 2.1656e-04\n",
            "Epoch 72/100\n",
            "38/38 [==============================] - 1s 16ms/step - loss: 2.2504e-04\n",
            "Epoch 73/100\n",
            "38/38 [==============================] - 1s 16ms/step - loss: 2.0347e-04\n",
            "Epoch 74/100\n",
            "38/38 [==============================] - 1s 17ms/step - loss: 1.9939e-04\n",
            "Epoch 75/100\n",
            "38/38 [==============================] - 1s 18ms/step - loss: 2.2223e-04\n",
            "Epoch 76/100\n",
            "38/38 [==============================] - 1s 15ms/step - loss: 2.1481e-04\n",
            "Epoch 77/100\n",
            "38/38 [==============================] - 0s 10ms/step - loss: 2.1268e-04\n",
            "Epoch 78/100\n",
            "38/38 [==============================] - 0s 10ms/step - loss: 2.0152e-04\n",
            "Epoch 79/100\n",
            "38/38 [==============================] - 0s 10ms/step - loss: 1.9412e-04\n",
            "Epoch 80/100\n",
            "38/38 [==============================] - 0s 10ms/step - loss: 1.8826e-04\n",
            "Epoch 81/100\n",
            "38/38 [==============================] - 0s 11ms/step - loss: 2.0223e-04\n",
            "Epoch 82/100\n",
            "38/38 [==============================] - 0s 10ms/step - loss: 2.0347e-04\n",
            "Epoch 83/100\n",
            "38/38 [==============================] - 0s 10ms/step - loss: 2.3631e-04\n",
            "Epoch 84/100\n",
            "38/38 [==============================] - 0s 10ms/step - loss: 1.9194e-04\n",
            "Epoch 85/100\n",
            "38/38 [==============================] - 0s 10ms/step - loss: 1.9782e-04\n",
            "Epoch 86/100\n",
            "38/38 [==============================] - 0s 10ms/step - loss: 1.9190e-04\n",
            "Epoch 87/100\n",
            "38/38 [==============================] - 0s 10ms/step - loss: 2.5327e-04\n",
            "Epoch 88/100\n",
            "38/38 [==============================] - 0s 10ms/step - loss: 1.9013e-04\n",
            "Epoch 89/100\n",
            "38/38 [==============================] - 0s 10ms/step - loss: 2.0141e-04\n",
            "Epoch 90/100\n",
            "38/38 [==============================] - 0s 10ms/step - loss: 1.9062e-04\n",
            "Epoch 91/100\n",
            "38/38 [==============================] - 0s 10ms/step - loss: 1.9779e-04\n",
            "Epoch 92/100\n",
            "38/38 [==============================] - 0s 10ms/step - loss: 2.1325e-04\n",
            "Epoch 93/100\n",
            "38/38 [==============================] - 0s 10ms/step - loss: 2.1114e-04\n",
            "Epoch 94/100\n",
            "38/38 [==============================] - 0s 11ms/step - loss: 1.9971e-04\n",
            "Epoch 95/100\n",
            "38/38 [==============================] - 0s 10ms/step - loss: 1.8537e-04\n",
            "Epoch 96/100\n",
            "38/38 [==============================] - 0s 10ms/step - loss: 1.9257e-04\n",
            "Epoch 97/100\n",
            "38/38 [==============================] - 0s 11ms/step - loss: 2.1907e-04\n",
            "Epoch 98/100\n",
            "38/38 [==============================] - 0s 11ms/step - loss: 2.3188e-04\n",
            "Epoch 99/100\n",
            "38/38 [==============================] - 0s 11ms/step - loss: 1.9839e-04\n",
            "Epoch 100/100\n",
            "38/38 [==============================] - 0s 10ms/step - loss: 1.8830e-04\n"
          ]
        },
        {
          "output_type": "execute_result",
          "data": {
            "text/plain": [
              "<keras.src.callbacks.History at 0x7ce21a994e80>"
            ]
          },
          "metadata": {},
          "execution_count": 26
        }
      ]
    },
    {
      "cell_type": "code",
      "source": [
        "dataset_test = pd.read_csv('testset.csv')"
      ],
      "metadata": {
        "id": "XwhesEKggrYw"
      },
      "execution_count": 17,
      "outputs": []
    },
    {
      "cell_type": "code",
      "source": [
        "test_set = dataset_test.iloc[:,1:2]"
      ],
      "metadata": {
        "id": "sLl1fEq0g0d6"
      },
      "execution_count": 27,
      "outputs": []
    },
    {
      "cell_type": "code",
      "source": [
        "test_set.shape"
      ],
      "metadata": {
        "colab": {
          "base_uri": "https://localhost:8080/"
        },
        "id": "qLAsx4s4g3Gr",
        "outputId": "8a7e5806-bdd0-4cbc-d8fc-a121d4cdc92d"
      },
      "execution_count": 28,
      "outputs": [
        {
          "output_type": "execute_result",
          "data": {
            "text/plain": [
              "(125, 1)"
            ]
          },
          "metadata": {},
          "execution_count": 28
        }
      ]
    },
    {
      "cell_type": "code",
      "source": [
        "dataset_total = pd.concat((dataset_train['Open'],dataset_test['Open']),axis=0)"
      ],
      "metadata": {
        "id": "dTCk3fc-g4tQ"
      },
      "execution_count": 29,
      "outputs": []
    },
    {
      "cell_type": "code",
      "source": [
        "inputs = dataset_total.values\n",
        "inputs = inputs.reshape(-1,1)\n",
        "inputs_scaled=sc.transform(inputs)\n",
        "X_test = []\n",
        "for i in range(60,1384):\n",
        "  X_test.append(inputs_scaled[i-60:i,0])\n",
        "X_test = np.array(X_test)\n",
        "X_test = np.reshape(X_test,(X_test.shape[0], X_test.shape[1],1))"
      ],
      "metadata": {
        "id": "SEvENEMjg-Bk"
      },
      "execution_count": 30,
      "outputs": []
    },
    {
      "cell_type": "code",
      "source": [
        "X_test.shape"
      ],
      "metadata": {
        "colab": {
          "base_uri": "https://localhost:8080/"
        },
        "id": "c9I-OEWYhCec",
        "outputId": "f25d10b9-62de-47c5-d550-35f83f735ebe"
      },
      "execution_count": 31,
      "outputs": [
        {
          "output_type": "execute_result",
          "data": {
            "text/plain": [
              "(1324, 60, 1)"
            ]
          },
          "metadata": {},
          "execution_count": 31
        }
      ]
    },
    {
      "cell_type": "code",
      "source": [
        "predicted_stock_price_scaled = model.predict(X_test)\n",
        "predicted_stock_price = sc.inverse_transform(predicted_stock_price_scaled)"
      ],
      "metadata": {
        "colab": {
          "base_uri": "https://localhost:8080/"
        },
        "id": "LvkGV3p4hJFL",
        "outputId": "35e43fa1-f2b1-465a-c919-9ca0739d063a"
      },
      "execution_count": 32,
      "outputs": [
        {
          "output_type": "stream",
          "name": "stdout",
          "text": [
            "42/42 [==============================] - 0s 6ms/step\n"
          ]
        }
      ]
    },
    {
      "cell_type": "code",
      "source": [
        "print(\"Name: KUMUDHINI T          Register Number: 212222040084\")\n",
        "plt.plot(np.arange(0,1384),inputs, color='red', label = 'Test(Real) Google stock price')\n",
        "plt.plot(np.arange(60,1384),predicted_stock_price, color='blue', label = 'Predicted Google stock price')\n",
        "plt.title('Google Stock Price Prediction')\n",
        "plt.xlabel('Time')\n",
        "plt.ylabel('Google Stock Price')\n",
        "plt.legend()\n",
        "plt.show()"
      ],
      "metadata": {
        "colab": {
          "base_uri": "https://localhost:8080/",
          "height": 489
        },
        "id": "SYzjflmNhLG7",
        "outputId": "6e24eeed-782e-4ab7-d5e9-1e3e4ae95bdc"
      },
      "execution_count": 33,
      "outputs": [
        {
          "output_type": "stream",
          "name": "stdout",
          "text": [
            "Name: KUMUDHINI T          Register Number: 212222040084\n"
          ]
        },
        {
          "output_type": "display_data",
          "data": {
            "text/plain": [
              "<Figure size 640x480 with 1 Axes>"
            ],
            "image/png": "[encoded data removed]"
          },
          "metadata": {}
        }
      ]
    }
  ]
}